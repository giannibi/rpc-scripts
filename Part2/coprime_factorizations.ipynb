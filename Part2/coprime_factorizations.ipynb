{
 "cells": [
  {
   "attachments": {
    "GK.png": {
     "image/png": "[encoded data removed]"
    }
   },
   "cell_type": "markdown",
   "metadata": {
    "pycharm": {
     "name": "#%% md\n"
    }
   },
   "source": [
    "Compute doubly coprime factorizations of $G_{22}$ and the corresponding closed-loop transfer function $T_{zw}$ in terms of the Youla parameter $Q$\n",
    "\n",
    "![GK.png](attachment:GK.png)"
   ]
  },
  {
   "cell_type": "code",
   "execution_count": 29,
   "metadata": {
    "pycharm": {
     "name": "#%%\n"
    }
   },
   "outputs": [],
   "source": [
    "import cvxpy as cp\n",
    "import numpy as np\n",
    "import matplotlib.pyplot as plt\n",
    "import control as ct\n",
    "import rpc_diism.robust as rb"
   ]
  },
  {
   "cell_type": "markdown",
   "metadata": {
    "pycharm": {
     "name": "#%%\n"
    }
   },
   "source": [
    "System definition"
   ]
  },
  {
   "cell_type": "code",
   "execution_count": 30,
   "metadata": {
    "pycharm": {
     "name": "#%%\n"
    }
   },
   "outputs": [],
   "source": [
    "# System A matrix\n",
    "A = np.array([[-0.5, 4, 0],\n",
    "              [-5, -1, 2],\n",
    "              [0.2, -2, -1]])\n",
    "# This defines G11\n",
    "B1 = np.array([[1],\n",
    "               [0],\n",
    "               [0]])\n",
    "C1 = np.array([1, 0, 0])\n",
    "D11 = np.array([0])\n",
    "\n",
    "G11 = ct.StateSpace(A, B1, C1, D11)\n",
    "\n",
    "# This defines G12\n",
    "B2 = np.array([[1,0],\n",
    "              [0,1],\n",
    "              [0,0]])\n",
    "D12 = np.array([1,0])\n",
    "G12 = ct.StateSpace(A, B2, C1, D12)\n",
    "\n",
    "# This defines G21\n",
    "C2 = np.array([[1,0,0],\n",
    "              [0,0,1]])\n",
    "D21 = np.array([[1],\n",
    "                [-1]])\n",
    "G21 = ct.StateSpace(A, B1, C2, D21)\n",
    "\n",
    "# This defines G22 \n",
    "D22 = np.array([[0.5,0],\n",
    "              [0,0.5]])\n",
    "G22 = ct.StateSpace(A, B2, C2, D22)\n",
    "\n",
    "# Number of states\n",
    "n = np.size(A,1)\n",
    "# Number of controlled inputs and measured outputs\n",
    "nu = np.size(D22.transpose()@D22,1)\n",
    "\n",
    "I = np.eye(nu)\n",
    "Zero = np.zeros([nu,nu])"
   ]
  },
  {
   "cell_type": "markdown",
   "metadata": {
    "pycharm": {
     "name": "#%%\n"
    }
   },
   "source": [
    "Computation of coprime factorizations of $G_{22}$"
   ]
  },
  {
   "cell_type": "code",
   "execution_count": 31,
   "metadata": {
    "pycharm": {
     "name": "#%%\n"
    }
   },
   "outputs": [],
   "source": [
    "# Compute a state-feedback controller for G22\n",
    "poles = [-1, -2, -3] # These can be anything (must be stable!)\n",
    "F = -ct.place(A, B2, poles)\n",
    "\n",
    "# Compute Mhat, Nhat (right factorization)\n",
    "AF = A + B2 @ F\n",
    "CF = C2 + D22 @ F\n",
    "Mhat = ct.StateSpace(AF, B2, F, I)\n",
    "Nhat = ct.StateSpace(AF, B2, CF, D22)\n",
    "\n",
    "# Compute a stable observer for G22\n",
    "poles = [-4, -5, -6] # These can be anything (must be stable!)\n",
    "H = -(ct.place(A.transpose(), C2.transpose(), poles)).transpose()\n",
    "\n",
    "# Compute Mtilde, Ntilde (left factorization)\n",
    "AH = A + H @ C2\n",
    "BH = B2 + H @ D22\n",
    "Mtilde = ct.StateSpace(AH, H, C2, I)\n",
    "Ntilde = ct.StateSpace(AH, BH, C2, D22)\n",
    "\n",
    "# Compute the X and Y factors of doubly coprime factorizations\n",
    "Xhat = ct.StateSpace(AF, -H, CF, I)\n",
    "Yhat = ct.StateSpace(AF, -H, F, Zero)\n",
    "Xtilde = ct.StateSpace(AH, -BH, F, I)\n",
    "Ytilde = ct.StateSpace(AH, -H, F, Zero)\n",
    "\n",
    "# Factorized G22\n",
    "G22right = Nhat * rb.invss(Mhat)\n",
    "G22left = rb.invss(Mtilde) * Ntilde"
   ]
  },
  {
   "cell_type": "markdown",
   "metadata": {
    "pycharm": {
     "name": "#%%\n"
    }
   },
   "source": [
    "Verify that factorizations are correct (they both must evaluate to G22)"
   ]
  },
  {
   "cell_type": "code",
   "execution_count": 32,
   "metadata": {
    "pycharm": {
     "name": "#%%\n"
    }
   },
   "outputs": [
    {
     "data": {
      "text/html": [
       "&lt;StateSpace sys[160]: ['u[0]', 'u[1]'] -&gt; ['y[0]', 'y[1]']&gt;\n",
       "$$\n",
       "\\left[\\begin{array}{rllrll}\n",
       "0\\phantom{.}&\\hspace{-1em}&\\hspace{-1em}\\phantom{\\cdot}&0\\phantom{.}&\\hspace{-1em}&\\hspace{-1em}\\phantom{\\cdot}\\\\\n",
       "0\\phantom{.}&\\hspace{-1em}&\\hspace{-1em}\\phantom{\\cdot}&0\\phantom{.}&\\hspace{-1em}&\\hspace{-1em}\\phantom{\\cdot}\\\\\n",
       "\\end{array}\\right]\n",
       "$$"
      ],
      "text/markdown": [
       "&lt;StateSpace sys[160]: ['u[0]', 'u[1]'] -&gt; ['y[0]', 'y[1]']&gt;\n",
       "$$\n",
       "\\left[\\begin{array}{rllrll}\n",
       "0\\phantom{.}&\\hspace{-1em}&\\hspace{-1em}\\phantom{\\cdot}&0\\phantom{.}&\\hspace{-1em}&\\hspace{-1em}\\phantom{\\cdot}\\\\\n",
       "0\\phantom{.}&\\hspace{-1em}&\\hspace{-1em}\\phantom{\\cdot}&0\\phantom{.}&\\hspace{-1em}&\\hspace{-1em}\\phantom{\\cdot}\\\\\n",
       "\\end{array}\\right]\n",
       "$$"
      ],
      "text/plain": [
       "StateSpace(\n",
       "array([], shape=(0, 0), dtype=float64),\n",
       "array([], shape=(0, 2), dtype=float64),\n",
       "array([], shape=(2, 0), dtype=float64),\n",
       "array([[0., 0.],\n",
       "       [0., 0.]]),\n",
       "states=0, outputs=2, inputs=2)"
      ]
     },
     "metadata": {},
     "output_type": "display_data"
    },
    {
     "data": {
      "text/html": [
       "&lt;StateSpace sys[163]: ['u[0]', 'u[1]'] -&gt; ['y[0]', 'y[1]']&gt;\n",
       "$$\n",
       "\\left[\\begin{array}{rllrll}\n",
       "0\\phantom{.}&\\hspace{-1em}&\\hspace{-1em}\\phantom{\\cdot}&0\\phantom{.}&\\hspace{-1em}&\\hspace{-1em}\\phantom{\\cdot}\\\\\n",
       "0\\phantom{.}&\\hspace{-1em}&\\hspace{-1em}\\phantom{\\cdot}&0\\phantom{.}&\\hspace{-1em}&\\hspace{-1em}\\phantom{\\cdot}\\\\\n",
       "\\end{array}\\right]\n",
       "$$"
      ],
      "text/markdown": [
       "&lt;StateSpace sys[163]: ['u[0]', 'u[1]'] -&gt; ['y[0]', 'y[1]']&gt;\n",
       "$$\n",
       "\\left[\\begin{array}{rllrll}\n",
       "0\\phantom{.}&\\hspace{-1em}&\\hspace{-1em}\\phantom{\\cdot}&0\\phantom{.}&\\hspace{-1em}&\\hspace{-1em}\\phantom{\\cdot}\\\\\n",
       "0\\phantom{.}&\\hspace{-1em}&\\hspace{-1em}\\phantom{\\cdot}&0\\phantom{.}&\\hspace{-1em}&\\hspace{-1em}\\phantom{\\cdot}\\\\\n",
       "\\end{array}\\right]\n",
       "$$"
      ],
      "text/plain": [
       "StateSpace(\n",
       "array([], shape=(0, 0), dtype=float64),\n",
       "array([], shape=(0, 2), dtype=float64),\n",
       "array([], shape=(2, 0), dtype=float64),\n",
       "array([[0., 0.],\n",
       "       [0., 0.]]),\n",
       "states=0, outputs=2, inputs=2)"
      ]
     },
     "metadata": {},
     "output_type": "display_data"
    }
   ],
   "source": [
    "display(ct.minreal(G22 - G22right, verbose=False))\n",
    "display(ct.minreal(G22 - G22left, verbose=False))"
   ]
  },
  {
   "cell_type": "markdown",
   "metadata": {},
   "source": [
    "Verify coprimeness"
   ]
  },
  {
   "cell_type": "markdown",
   "metadata": {},
   "source": [
    "This must be I"
   ]
  },
  {
   "cell_type": "code",
   "execution_count": 33,
   "metadata": {},
   "outputs": [
    {
     "data": {
      "text/html": [
       "&lt;StateSpace sys[168]: ['u[0]', 'u[1]'] -&gt; ['y[0]', 'y[1]']&gt;\n",
       "$$\n",
       "\\left[\\begin{array}{rllrll}\n",
       "1\\phantom{.}&\\hspace{-1em}&\\hspace{-1em}\\phantom{\\cdot}&0\\phantom{.}&\\hspace{-1em}&\\hspace{-1em}\\phantom{\\cdot}\\\\\n",
       "0\\phantom{.}&\\hspace{-1em}&\\hspace{-1em}\\phantom{\\cdot}&1\\phantom{.}&\\hspace{-1em}&\\hspace{-1em}\\phantom{\\cdot}\\\\\n",
       "\\end{array}\\right]\n",
       "$$"
      ],
      "text/markdown": [
       "&lt;StateSpace sys[168]: ['u[0]', 'u[1]'] -&gt; ['y[0]', 'y[1]']&gt;\n",
       "$$\n",
       "\\left[\\begin{array}{rllrll}\n",
       "1\\phantom{.}&\\hspace{-1em}&\\hspace{-1em}\\phantom{\\cdot}&0\\phantom{.}&\\hspace{-1em}&\\hspace{-1em}\\phantom{\\cdot}\\\\\n",
       "0\\phantom{.}&\\hspace{-1em}&\\hspace{-1em}\\phantom{\\cdot}&1\\phantom{.}&\\hspace{-1em}&\\hspace{-1em}\\phantom{\\cdot}\\\\\n",
       "\\end{array}\\right]\n",
       "$$"
      ],
      "text/plain": [
       "StateSpace(\n",
       "array([], shape=(0, 0), dtype=float64),\n",
       "array([], shape=(0, 2), dtype=float64),\n",
       "array([], shape=(2, 0), dtype=float64),\n",
       "array([[1., 0.],\n",
       "       [0., 1.]]),\n",
       "states=0, outputs=2, inputs=2)"
      ]
     },
     "metadata": {},
     "output_type": "display_data"
    }
   ],
   "source": [
    "display(ct.minreal(Xtilde * Mhat - Ytilde * Nhat, 0.01, verbose=False))"
   ]
  },
  {
   "cell_type": "markdown",
   "metadata": {},
   "source": [
    "This must be 0"
   ]
  },
  {
   "cell_type": "code",
   "execution_count": 34,
   "metadata": {},
   "outputs": [
    {
     "data": {
      "text/html": [
       "&lt;StateSpace sys[173]: ['u[0]', 'u[1]'] -&gt; ['y[0]', 'y[1]']&gt;\n",
       "$$\n",
       "\\left[\\begin{array}{rllrll}\n",
       "0\\phantom{.}&\\hspace{-1em}&\\hspace{-1em}\\phantom{\\cdot}&0\\phantom{.}&\\hspace{-1em}&\\hspace{-1em}\\phantom{\\cdot}\\\\\n",
       "0\\phantom{.}&\\hspace{-1em}&\\hspace{-1em}\\phantom{\\cdot}&0\\phantom{.}&\\hspace{-1em}&\\hspace{-1em}\\phantom{\\cdot}\\\\\n",
       "\\end{array}\\right]\n",
       "$$"
      ],
      "text/markdown": [
       "&lt;StateSpace sys[173]: ['u[0]', 'u[1]'] -&gt; ['y[0]', 'y[1]']&gt;\n",
       "$$\n",
       "\\left[\\begin{array}{rllrll}\n",
       "0\\phantom{.}&\\hspace{-1em}&\\hspace{-1em}\\phantom{\\cdot}&0\\phantom{.}&\\hspace{-1em}&\\hspace{-1em}\\phantom{\\cdot}\\\\\n",
       "0\\phantom{.}&\\hspace{-1em}&\\hspace{-1em}\\phantom{\\cdot}&0\\phantom{.}&\\hspace{-1em}&\\hspace{-1em}\\phantom{\\cdot}\\\\\n",
       "\\end{array}\\right]\n",
       "$$"
      ],
      "text/plain": [
       "StateSpace(\n",
       "array([], shape=(0, 0), dtype=float64),\n",
       "array([], shape=(0, 2), dtype=float64),\n",
       "array([], shape=(2, 0), dtype=float64),\n",
       "array([[0., 0.],\n",
       "       [0., 0.]]),\n",
       "states=0, outputs=2, inputs=2)"
      ]
     },
     "metadata": {},
     "output_type": "display_data"
    }
   ],
   "source": [
    "display(ct.minreal(Xtilde * Yhat - Ytilde * Xhat, 0.01, verbose=False))"
   ]
  },
  {
   "cell_type": "markdown",
   "metadata": {},
   "source": [
    "This must be 0"
   ]
  },
  {
   "cell_type": "code",
   "execution_count": 35,
   "metadata": {},
   "outputs": [
    {
     "data": {
      "text/html": [
       "&lt;StateSpace sys[178]: ['u[0]', 'u[1]'] -&gt; ['y[0]', 'y[1]']&gt;\n",
       "$$\n",
       "\\left[\\begin{array}{rllrll}\n",
       "0\\phantom{.}&\\hspace{-1em}&\\hspace{-1em}\\phantom{\\cdot}&0\\phantom{.}&\\hspace{-1em}&\\hspace{-1em}\\phantom{\\cdot}\\\\\n",
       "0\\phantom{.}&\\hspace{-1em}&\\hspace{-1em}\\phantom{\\cdot}&0\\phantom{.}&\\hspace{-1em}&\\hspace{-1em}\\phantom{\\cdot}\\\\\n",
       "\\end{array}\\right]\n",
       "$$"
      ],
      "text/markdown": [
       "&lt;StateSpace sys[178]: ['u[0]', 'u[1]'] -&gt; ['y[0]', 'y[1]']&gt;\n",
       "$$\n",
       "\\left[\\begin{array}{rllrll}\n",
       "0\\phantom{.}&\\hspace{-1em}&\\hspace{-1em}\\phantom{\\cdot}&0\\phantom{.}&\\hspace{-1em}&\\hspace{-1em}\\phantom{\\cdot}\\\\\n",
       "0\\phantom{.}&\\hspace{-1em}&\\hspace{-1em}\\phantom{\\cdot}&0\\phantom{.}&\\hspace{-1em}&\\hspace{-1em}\\phantom{\\cdot}\\\\\n",
       "\\end{array}\\right]\n",
       "$$"
      ],
      "text/plain": [
       "StateSpace(\n",
       "array([], shape=(0, 0), dtype=float64),\n",
       "array([], shape=(0, 2), dtype=float64),\n",
       "array([], shape=(2, 0), dtype=float64),\n",
       "array([[0., 0.],\n",
       "       [0., 0.]]),\n",
       "states=0, outputs=2, inputs=2)"
      ]
     },
     "metadata": {},
     "output_type": "display_data"
    }
   ],
   "source": [
    "display(ct.minreal(-Ntilde * Mhat + Mtilde * Nhat, 0.01, verbose=False))"
   ]
  },
  {
   "cell_type": "markdown",
   "metadata": {},
   "source": [
    "This must be I"
   ]
  },
  {
   "cell_type": "code",
   "execution_count": 36,
   "metadata": {},
   "outputs": [
    {
     "data": {
      "text/html": [
       "&lt;StateSpace sys[183]: ['u[0]', 'u[1]'] -&gt; ['y[0]', 'y[1]']&gt;\n",
       "$$\n",
       "\\left[\\begin{array}{rllrll}\n",
       "1\\phantom{.}&\\hspace{-1em}&\\hspace{-1em}\\phantom{\\cdot}&0\\phantom{.}&\\hspace{-1em}&\\hspace{-1em}\\phantom{\\cdot}\\\\\n",
       "0\\phantom{.}&\\hspace{-1em}&\\hspace{-1em}\\phantom{\\cdot}&1\\phantom{.}&\\hspace{-1em}&\\hspace{-1em}\\phantom{\\cdot}\\\\\n",
       "\\end{array}\\right]\n",
       "$$"
      ],
      "text/markdown": [
       "&lt;StateSpace sys[183]: ['u[0]', 'u[1]'] -&gt; ['y[0]', 'y[1]']&gt;\n",
       "$$\n",
       "\\left[\\begin{array}{rllrll}\n",
       "1\\phantom{.}&\\hspace{-1em}&\\hspace{-1em}\\phantom{\\cdot}&0\\phantom{.}&\\hspace{-1em}&\\hspace{-1em}\\phantom{\\cdot}\\\\\n",
       "0\\phantom{.}&\\hspace{-1em}&\\hspace{-1em}\\phantom{\\cdot}&1\\phantom{.}&\\hspace{-1em}&\\hspace{-1em}\\phantom{\\cdot}\\\\\n",
       "\\end{array}\\right]\n",
       "$$"
      ],
      "text/plain": [
       "StateSpace(\n",
       "array([], shape=(0, 0), dtype=float64),\n",
       "array([], shape=(0, 2), dtype=float64),\n",
       "array([], shape=(2, 0), dtype=float64),\n",
       "array([[1., 0.],\n",
       "       [0., 1.]]),\n",
       "states=0, outputs=2, inputs=2)"
      ]
     },
     "metadata": {},
     "output_type": "display_data"
    }
   ],
   "source": [
    "display(ct.minreal(-Ntilde * Yhat + Mtilde * Xhat, 0.01, verbose=False))"
   ]
  },
  {
   "cell_type": "markdown",
   "metadata": {},
   "source": [
    "Compute $T_1$, $T_2$, $T_3$ for the specific control problem"
   ]
  },
  {
   "cell_type": "code",
   "execution_count": 37,
   "metadata": {},
   "outputs": [],
   "source": [
    "T1 = ct.minreal(G11 + G12 * Yhat * Mtilde * G21, verbose=False)\n",
    "T2 = ct.minreal(G12 * Mhat, verbose=False)\n",
    "T3 = ct.minreal(Mtilde * G21, verbose=False)"
   ]
  },
  {
   "cell_type": "markdown",
   "metadata": {},
   "source": [
    "Take a random stable $Q$ and get a stabilizing controller for free!\n"
   ]
  },
  {
   "cell_type": "code",
   "execution_count": 38,
   "metadata": {},
   "outputs": [],
   "source": [
    "AQ = np.array([[-2, 0.5, 0.5],\n",
    "              [0.1, -1, 2],\n",
    "              [0, 0, -0.5]])\n",
    "BQ = np.array([[1,0],\n",
    "               [0,1],\n",
    "               [0,0]])\n",
    "CQ = np.array([[1, 0, 0],\n",
    "              [0,0,1]])\n",
    "DQ = np.array([[0,0],\n",
    "              [0,0]])\n",
    "Q = ct.StateSpace(AQ, BQ, CQ, DQ)"
   ]
  },
  {
   "cell_type": "markdown",
   "metadata": {},
   "source": [
    "Compute $T_{zw}$ from $Q$"
   ]
  },
  {
   "cell_type": "code",
   "execution_count": 39,
   "metadata": {},
   "outputs": [],
   "source": [
    "Tzw = ct.minreal(T1 - T2 * Q * T3, verbose=False)"
   ]
  },
  {
   "cell_type": "markdown",
   "metadata": {},
   "source": [
    "Check the eigenvalues of $T_{zw}$"
   ]
  },
  {
   "cell_type": "code",
   "execution_count": 40,
   "metadata": {},
   "outputs": [
    {
     "data": {
      "text/plain": [
       "array([-0.82516463+4.89048738e+00j, -0.82516463-4.89048738e+00j,\n",
       "       -0.82516463+4.89048738e+00j, -0.82516463-4.89048738e+00j,\n",
       "       -0.82516463+4.89048738e+00j, -0.82516463-4.89048738e+00j,\n",
       "       -6.        +0.00000000e+00j, -6.        +0.00000000e+00j,\n",
       "       -5.        +0.00000000e+00j, -5.        +0.00000000e+00j,\n",
       "       -4.        +0.00000000e+00j, -4.        +0.00000000e+00j,\n",
       "       -0.5       +0.00000000e+00j, -0.84967074+0.00000000e+00j,\n",
       "       -0.84967074+5.02235954e-15j, -0.84967074-5.02235954e-15j,\n",
       "       -1.        +0.00000000e+00j, -1.        +0.00000000e+00j,\n",
       "       -0.95227744+0.00000000e+00j, -3.        +0.00000000e+00j,\n",
       "       -3.        +0.00000000e+00j, -2.        +0.00000000e+00j,\n",
       "       -2.        +0.00000000e+00j, -2.04772256+0.00000000e+00j])"
      ]
     },
     "metadata": {},
     "output_type": "display_data"
    }
   ],
   "source": [
    "display(np.linalg.eigvals(Tzw.A))"
   ]
  },
  {
   "cell_type": "markdown",
   "metadata": {},
   "source": [
    "Compute the controller from $Q$"
   ]
  },
  {
   "cell_type": "code",
   "execution_count": 41,
   "metadata": {},
   "outputs": [],
   "source": [
    "K = ct.minreal((Yhat - Mhat * Q) * rb.invss(Xhat - Nhat * Q), verbose=False)"
   ]
  },
  {
   "cell_type": "markdown",
   "metadata": {},
   "source": [
    "Compute $T_{zw}$ from the controller"
   ]
  },
  {
   "cell_type": "code",
   "execution_count": 42,
   "metadata": {},
   "outputs": [],
   "source": [
    "Id = ct.tf(ct.ss([],[],[],np.eye(2))) # Identity\n",
    "Tzw2 = ct.minreal(G11 + G12 * K * rb.invss(ct.ss(Id - G22 * K)) * G21, verbose=False)"
   ]
  },
  {
   "cell_type": "markdown",
   "metadata": {},
   "source": [
    "Singular values of Tzw and Tzw2, superimposed"
   ]
  },
  {
   "cell_type": "code",
   "execution_count": 43,
   "metadata": {},
   "outputs": [
    {
     "data": {
      "text/plain": [
       "<control.ctrlplot.ControlPlot at 0x15b475e10>"
      ]
     },
     "execution_count": 43,
     "metadata": {},
     "output_type": "execute_result"
    },
    {
     "data": {
      "image/png": "[encoded data removed]",
      "text/plain": [
       "<Figure size 640x480 with 1 Axes>"
      ]
     },
     "metadata": {},
     "output_type": "display_data"
    }
   ],
   "source": [
    "ct.freqplot.singular_values_plot(Tzw)\n",
    "ct.freqplot.singular_values_plot(Tzw2)"
   ]
  },
  {
   "cell_type": "markdown",
   "metadata": {},
   "source": [
    "Singular values of Tzw-Tzw2 (ideally zero, but there may be a slight numerical error)"
   ]
  },
  {
   "cell_type": "code",
   "execution_count": null,
   "metadata": {
    "tags": []
   },
   "outputs": [
    {
     "ename": "TypeError",
     "evalue": "iter() returned non-iterator of type 'numpy.ndarray'",
     "output_type": "error",
     "traceback": [
      "\u001b[0;31m---------------------------------------------------------------------------\u001b[0m",
      "\u001b[0;31mTypeError\u001b[0m                                 Traceback (most recent call last)",
      "Cell \u001b[0;32mIn[44], line 2\u001b[0m\n\u001b[1;32m      1\u001b[0m dT \u001b[38;5;241m=\u001b[39m ct\u001b[38;5;241m.\u001b[39mminreal(Tzw \u001b[38;5;241m-\u001b[39m Tzw2, verbose\u001b[38;5;241m=\u001b[39m\u001b[38;5;28;01mFalse\u001b[39;00m)\n\u001b[0;32m----> 2\u001b[0m sigma_ct, omega_ct \u001b[38;5;241m=\u001b[39m ct\u001b[38;5;241m.\u001b[39mfreqplot\u001b[38;5;241m.\u001b[39msingular_values_plot(dT)\n",
      "\u001b[0;31mTypeError\u001b[0m: iter() returned non-iterator of type 'numpy.ndarray'"
     ]
    },
    {
     "data": {
      "image/png": "[encoded data removed]",
      "text/plain": [
       "<Figure size 640x480 with 1 Axes>"
      ]
     },
     "metadata": {},
     "output_type": "display_data"
    }
   ],
   "source": [
    "dT = ct.minreal(Tzw - Tzw2, verbose=False)\n",
    "ct.freqplot.singular_values_plot(dT)"
   ]
  }
 ],
 "metadata": {
  "kernelspec": {
   "display_name": "rpc2025",
   "language": "python",
   "name": "python3"
  },
  "language_info": {
   "codemirror_mode": {
    "name": "ipython",
    "version": 3
   },
   "file_extension": ".py",
   "mimetype": "text/x-python",
   "name": "python",
   "nbconvert_exporter": "python",
   "pygments_lexer": "ipython3",
   "version": "3.10.18"
  }
 },
 "nbformat": 4,
 "nbformat_minor": 4
}
