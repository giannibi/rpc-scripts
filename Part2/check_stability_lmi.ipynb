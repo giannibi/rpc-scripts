{
 "cells": [
  {
   "cell_type": "markdown",
   "metadata": {
    "pycharm": {
     "name": "#%% md\n"
    }
   },
   "source": [
    "Check stability of a system using the Lyapunov inequality"
   ]
  },
  {
   "cell_type": "code",
   "execution_count": 1,
   "metadata": {
    "pycharm": {
     "name": "#%%\n"
    },
    "tags": []
   },
   "outputs": [
    {
     "name": "stdout",
     "output_type": "stream",
     "text": [
      "The system is Stable\n"
     ]
    }
   ],
   "source": [
    "import cvxpy as cp\n",
    "import numpy as np\n",
    "\n",
    "\n",
    "# A matrix of the system\n",
    "A = np.array([[-0.05, 0.1],\n",
    "              [0.1,   -1]])\n",
    "\n",
    "n = np.size(A,1)\n",
    "\n",
    "# Construct the problem\n",
    "P = cp.Variable((n,n), symmetric=True)\n",
    "# Feasibility only: objective is immaterial\n",
    "objective = cp.Minimize(0)\n",
    "# Lyapunov inequality as LMI constraints\n",
    "# Note that the condition is invariant for any scaling of P\n",
    "# so we can enforce the following in place of P>0, A'P+PA<0\n",
    "constraints = [A.T @ P + P @ A << -np.eye(n), \n",
    "               P >> np.eye(n)]\n",
    "prob = cp.Problem(objective, constraints)\n",
    "\n",
    "# Solve\n",
    "result = prob.solve()\n",
    "if prob.status == 'optimal':\n",
    "    print(\"The system is Stable\")\n",
    "else:\n",
    "    print(\"The system is Unstable\")\n"
   ]
  }
 ],
 "metadata": {
  "kernelspec": {
   "display_name": "Python 3 (ipykernel)",
   "language": "python",
   "name": "python3"
  },
  "language_info": {
   "codemirror_mode": {
    "name": "ipython",
    "version": 3
   },
   "file_extension": ".py",
   "mimetype": "text/x-python",
   "name": "python",
   "nbconvert_exporter": "python",
   "pygments_lexer": "ipython3",
   "version": "3.10.13"
  }
 },
 "nbformat": 4,
 "nbformat_minor": 4
}
