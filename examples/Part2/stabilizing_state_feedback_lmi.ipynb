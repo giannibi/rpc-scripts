{
 "cells": [
  {
   "cell_type": "markdown",
   "metadata": {
    "pycharm": {
     "name": "#%% md\n"
    }
   },
   "source": [
    "Compute a stabilizing state feedback controller using the Lyapunov inequality\n",
    "and a linearizing change of variables"
   ]
  },
  {
   "cell_type": "code",
   "execution_count": 1,
   "metadata": {
    "pycharm": {
     "name": "#%%\n"
    },
    "tags": []
   },
   "outputs": [
    {
     "name": "stdout",
     "output_type": "stream",
     "text": [
      "Controller gain:  [[ 0.5 -0.5]]\n",
      "Closed loop eigenvalues:  EigResult(eigenvalues=array([-0.5, -1. ]), eigenvectors=array([[1.0000000e+00, 8.8817842e-16],\n",
      "       [0.0000000e+00, 1.0000000e+00]]))\n"
     ]
    }
   ],
   "source": [
    "import cvxpy as cp\n",
    "import numpy as np\n",
    "\n",
    "# A and B matrix of the system\n",
    "A = np.array([[-1,0.5],\n",
    "              [0,-1]])\n",
    "B = np.array([[1],\n",
    "              [0]])\n",
    "\n",
    "n = np.size(A,1)\n",
    "m = np.size(B,1)\n",
    "\n",
    "# Construct the problem\n",
    "X = cp.Variable([n,n], symmetric=True)\n",
    "Y = cp.Variable([m,n])\n",
    "# Feasibility only: objective is immaterial\n",
    "objective = cp.Minimize(0)\n",
    "# Lyapunov inequality as LMI constraints\n",
    "constraints = [A @ X + B @ Y + X @ A.T + Y.T @ B.T << -np.eye(n), \n",
    "               X >> np.eye(n)]\n",
    "prob = cp.Problem(objective, constraints)\n",
    "\n",
    "# Solve\n",
    "result = prob.solve()\n",
    "if prob.status == 'optimal':    \n",
    "    K = Y.value @ np.linalg.inv(X.value)\n",
    "    print(\"Controller gain: \", K)\n",
    "    print(\"Closed loop eigenvalues: \", np.linalg.eig(A + B @ K))\n",
    "else:\n",
    "    print(\"Something is wrong (system not stabilizable?)\")\n"
   ]
  }
 ],
 "metadata": {
  "kernelspec": {
   "display_name": "rpc2025",
   "language": "python",
   "name": "python3"
  },
  "language_info": {
   "codemirror_mode": {
    "name": "ipython",
    "version": 3
   },
   "file_extension": ".py",
   "mimetype": "text/x-python",
   "name": "python",
   "nbconvert_exporter": "python",
   "pygments_lexer": "ipython3",
   "version": "3.10.18"
  }
 },
 "nbformat": 4,
 "nbformat_minor": 4
}
